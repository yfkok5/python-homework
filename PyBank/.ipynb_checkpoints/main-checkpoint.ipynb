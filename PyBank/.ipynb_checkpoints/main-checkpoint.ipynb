{
 "cells": [
  {
   "cell_type": "code",
   "execution_count": 26,
   "id": "0892b069-780a-4448-8a6d-d5237fc3f6ba",
   "metadata": {},
   "outputs": [],
   "source": [
    "# Import the pathlib and csv library\n",
    "from pathlib import Path\n",
    "import csv\n",
    "\n",
    "# Set the file path\n",
    "import pandas as pd\n",
    "df = pd.read_csv(r'C:\\Users\\yfkok\\OneDrive\\Desktop\\Monash Bootcamp\\python-homework\\PyBank\\Resources\\budget_data.csv')\n",
    "\n",
    "#export 1st column into a list\n",
    "matrix1 = df[df.columns[0]].to_numpy()\n",
    "date = matrix1.tolist()\n",
    "\n",
    "#export 2nd column into a list\n",
    "matrix2 = df[df.columns[1]].to_numpy()\n",
    "budget = matrix2.tolist()\n",
    "\n",
    "#merging both lists into a dictionary\n",
    "budgetdict = dict(zip(date, budget))\n",
    "\n",
    "#creating a list of numbers which consists the change in profit between two roles of pnl\n",
    "pnlchange = [budget[i+1]-budget[i] for i in range(len(budget)-1)]\n"
   ]
  },
  {
   "cell_type": "code",
   "execution_count": 44,
   "id": "465adc17-f6df-4e93-b47b-4a6acbcb6511",
   "metadata": {},
   "outputs": [
    {
     "name": "stdout",
     "output_type": "stream",
     "text": [
      "-2196167\n"
     ]
    }
   ],
   "source": [
    "# Initialize metric variables\n",
    "max_pnl = 0\n",
    "min_pnl = 0\n",
    "pnl_average = 0\n",
    "total_pnl = 0\n",
    "count_pnl = 0\n",
    "\n",
    "# Calculate the max, mean, and average of the list of profits/losses\n",
    "for pnl in budget:\n",
    "\n",
    "    # Sum the total and count variables\n",
    "    total_pnl += pnl\n",
    "    count_pnl += 1\n",
    "\n",
    "    # Logic to determine min and max salaries\n",
    "    if min_pnl == 0:\n",
    "        min_pnl = pnl\n",
    "    elif pnl > max_pnl:\n",
    "        max_pnl = pnl\n",
    "    elif pnl < min_pnl:\n",
    "        min_pnl = pnl\n",
    "\n",
    "#function to determine which month corresponds to its respective profits/losses\n",
    "    def return_key(val):\n",
    "        for key, value in budgetdict.items():\n",
    "            if value==val:\n",
    "                return key\n",
    "        return('ERROR in CELL')\n",
    "# alling out dates from dictionary BASED on their pnl metrics   \n",
    "\n",
    "\n",
    "max_month = return_key(max_pnl)\n",
    "min_month = return_key(min_pnl)\n",
    "max_pnl_change = max(pnlchange)\n",
    "min_pnl_change = min(pnlchange)\n",
    "\n",
    "print(min_pnl_change)"
   ]
  },
  {
   "cell_type": "code",
   "execution_count": 48,
   "id": "3f7a2fa1-3f77-42b0-90fe-1ca85df3f032",
   "metadata": {},
   "outputs": [
    {
     "name": "stdout",
     "output_type": "stream",
     "text": [
      "Financial Analysis\n",
      "-------------------------------------\n",
      "Total Months: 86\n",
      "Total: 38,382,578\n",
      "Average Change: -2,315.12\n",
      "Greatest Increase in Profits: (Feb-2012) 1926159\n",
      "Greatest Decrease in Profits: (Sep-2013) -2196167\n"
     ]
    }
   ],
   "source": [
    "# Calculate the average salary, round to the nearest 2 decimal places\n",
    "pnl_average = round(sum(pnlchange)/len(pnlchange),2)\n",
    "\n",
    "# function to print the metrics\n",
    "# {max_pnl:,} - to include , after every 1000\n",
    "\n",
    "def print_financial_result():\n",
    "    print(\"Financial Analysis\")\n",
    "    print(\"-------------------------------------\")\n",
    "    print(f\"Total Months: {count_pnl:,}\")\n",
    "    print(f\"Total: {total_pnl:,}\")\n",
    "    print(f\"Average Change: {pnl_average:,}\")\n",
    "    print(f\"Greatest Increase in Profits: ({max_month}) {max_pnl_change}\")\n",
    "    print(f\"Greatest Decrease in Profits: ({min_month}) {min_pnl_change}\")\n",
    "    \n",
    "print_financial_result()"
   ]
  },
  {
   "cell_type": "code",
   "execution_count": 50,
   "id": "f73233bc-8499-4f3e-b098-9bd0502b5840",
   "metadata": {},
   "outputs": [],
   "source": [
    "# Generate print output in a text file\n",
    "\n",
    "f = open(\"output.txt\", \"w\")\n",
    "print(\"Financial Analysis\", file=f)\n",
    "print(\"-------------------------------------\", file=f)\n",
    "print(f\"Total Months: {count_pnl:,}\", file=f)\n",
    "print(f\"Total: {total_pnl:,}\", file=f)\n",
    "print(f\"Average Change: {pnl_average:,}\", file=f)\n",
    "print(f\"Greatest Increase in Profits: {return_key(max_pnl)} > {max_pnl_change:,}\", file=f)\n",
    "print(f\"Greatest Decrease in Profits: {return_key(min_pnl)} > {min_pnl_change:,}\", file=f)\n",
    "\n",
    "f.close()"
   ]
  },
  {
   "cell_type": "code",
   "execution_count": null,
   "id": "da2b2fde-c2e0-4006-b099-2e93a987a125",
   "metadata": {},
   "outputs": [],
   "source": []
  },
  {
   "cell_type": "code",
   "execution_count": null,
   "id": "05a925a8-12cb-4528-84f4-f26770b52c91",
   "metadata": {},
   "outputs": [],
   "source": []
  }
 ],
 "metadata": {
  "kernelspec": {
   "display_name": "Python 3 (ipykernel)",
   "language": "python",
   "name": "python3"
  },
  "language_info": {
   "codemirror_mode": {
    "name": "ipython",
    "version": 3
   },
   "file_extension": ".py",
   "mimetype": "text/x-python",
   "name": "python",
   "nbconvert_exporter": "python",
   "pygments_lexer": "ipython3",
   "version": "3.7.11"
  }
 },
 "nbformat": 4,
 "nbformat_minor": 5
}
