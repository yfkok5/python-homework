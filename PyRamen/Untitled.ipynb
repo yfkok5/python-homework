{
 "cells": [
  {
   "cell_type": "code",
   "execution_count": 39,
   "id": "4b5e7725-c782-4d8a-9d4e-260a5db97b3c",
   "metadata": {},
   "outputs": [
    {
     "name": "stdout",
     "output_type": "stream",
     "text": [
      "OrderedDict([('item', 'edamame'), ('category', 'appetizers'), ('description', 'boiled soybeans, maldon sea salt'), ('price', '4'), ('cost', '1')])\n",
      "OrderedDict([('item', 'house salad'), ('category', 'appetizers'), ('description', 'mixed greens, cherry tomatoes, cucumber, house ginger dressing'), ('price', '4'), ('cost', '2')])\n",
      "OrderedDict([('item', 'cucumber sunomono salad'), ('category', 'appetizers'), ('description', 'cucumber, ponzu dressing, pickled ginger sproud, sesame seeds'), ('price', '5'), ('cost', '2')])\n",
      "OrderedDict([('item', 'hiyashi wakame seaweed salad'), ('category', 'appetizers'), ('description', 'sweet soy-marinated wakame seaweed threads, pickled ginger sprout, sesame seeds'), ('price', '5'), ('cost', '2')])\n",
      "OrderedDict([('item', 'agedashi tofu'), ('category', 'appetizers'), ('description', 'tempura battered tofu, katsuobushi, tsuyu broth, scallions'), ('price', '5'), ('cost', '2')])\n",
      "OrderedDict([('item', 'hiyayakko tofu'), ('category', 'appetizers'), ('description', 'chilled soft tofu, house shoyu, katsuobushi, ginger, scallions'), ('price', '5'), ('cost', '2')])\n",
      "OrderedDict([('item', 'pork floss bao'), ('category', 'appetizers'), ('description', 'two steamed buns, minced lean slow braised niman, ranch pork belly, cucumbers, sriracha mayo'), ('price', '4'), ('cost', '2')])\n",
      "OrderedDict([('item', 'kakuni bao'), ('category', 'appetizers'), ('description', 'two steamed buns, chopped fatty slow braised niman ranch pork belly, cucumbers, house bao sauce'), ('price', '6'), ('cost', '3')])\n",
      "OrderedDict([('item', 'edamame fried gyoza (vegan)'), ('category', 'appetizers'), ('description', 'six crispy fried edamame and cabbage pot stickers; ponzu rayu dipping sauce'), ('price', '6'), ('cost', '3')])\n",
      "OrderedDict([('item', 'fried gyoza'), ('category', 'appetizers'), ('description', 'six cripsy fried pork and vegetable pot stickers; ponzu rayu dipping sauce'), ('price', '6'), ('cost', '6')])\n",
      "OrderedDict([('item', 'takoyaki'), ('category', 'appetizers'), ('description', 'six octopus-filled fried fritters, kewpie mayo, okonomi sauce, aonori, katsuobushi, nori'), ('price', '6'), ('cost', '3')])\n",
      "OrderedDict([('item', 'rock shrimp tempura'), ('category', 'appetizers'), ('description', 'deep fried tempura battered rock shrimp, sriracha mayo, nisume sauce, aonori, scallions'), ('price', '6'), ('cost', '3')])\n",
      "OrderedDict([('item', 'soft-shell crab tempura'), ('category', 'appetizers'), ('description', 'single deep fried soft-shell crab, tsuyu dipping broth'), ('price', '6'), ('cost', '3')])\n",
      "OrderedDict([('item', 'ebi katsu shrimp bao'), ('category', 'appetizers'), ('description', 'two steamed buns, panko-crusted fried shrimp patties, yuzu-kosho mayo, aonori, scallions'), ('price', '6'), ('cost', '3')])\n",
      "OrderedDict([('item', 'nagomi shoyu'), ('category', 'entree'), ('description', 'shoyu seasoned clear double stock (organic chick broth + house dashi); slow braised niman ranch pork belly, hanjuku tamago, nori, menma, scallions'), ('price', '11'), ('cost', '5')])\n",
      "OrderedDict([('item', 'shio ramen'), ('category', 'entree'), ('description', 'sea salt seasoned clear double stock (organic chicken broth + house dashi); slow braised niman ranch pork belly, hanjuku tamago, kikurage, nori, scallions'), ('price', '11'), ('cost', '5')])\n",
      "OrderedDict([('item', 'spicy miso ramen'), ('category', 'entree'), ('description', 'house togarashi miso blend + niman ranch pork bone stock; slow braised niman ranch pork belly, hanjuku tamago, kikurage, nori, scallions'), ('price', '12'), ('cost', '5')])\n",
      "OrderedDict([('item', 'vegetarian spicy miso'), ('category', 'entree'), ('description', 'house togarashi miso blend + vegan dashi; tempura fried tofu, sweet corn, edamame, kikurage, nori, scallions; organic soy milk upon request'), ('price', '12'), ('cost', '5')])\n",
      "OrderedDict([('item', 'miso crab ramen'), ('category', 'entree'), ('description', 'house miso crab blend + vegan dashi; slow braised niman ranch pork belly, crab meat, hanjuku tamago, kikurage, nori, scallions'), ('price', '12'), ('cost', '6')])\n",
      "OrderedDict([('item', 'soft-shell miso crab ramen'), ('category', 'entree'), ('description', 'house miso crab blend + vegan dashi; fried whole soft-shell crab, hanjuku tamago, kikurage, nori, scallions'), ('price', '14'), ('cost', '7')])\n",
      "OrderedDict([('item', 'tori paitan ramen'), ('category', 'entree'), ('description', 'rich, shoyu seasoned double stock (organic chicken broth + house dashi); slow braised niman ranch pork belly, hanuku tamago, kikurage, nori, scllaions'), ('price', '13'), ('cost', '6')])\n",
      "OrderedDict([('item', 'tonkotsu ramen'), ('category', 'entree'), ('description', 'rich, shoyi seasoned niman ranch pork bone stock; slow braised niman ranch pork belly, hanjuku tamago, kikurage, nori, spring radish, scallions'), ('price', '13'), ('cost', '6')])\n",
      "OrderedDict([('item', 'burnt garlic tonkotsu ramen'), ('category', 'entree'), ('description', 'rich, shoyi and burnt garlic seasoned niman ranch pork bone stock; slow braised niman ranch pork belly, hanjuku tamago, kikurage, sweet corn, nori, scallions'), ('price', '14'), ('cost', '6')])\n",
      "OrderedDict([('item', 'vegetarian curry + king trumpet mushroom ramen'), ('category', 'entree'), ('description', 'house curry blend + vegan dashi; fried king trumpet mushroom, tempura fried tofu, mung bean sprouts, kikurage, nori, scallions'), ('price', '13'), ('cost', '7')])\n",
      "OrderedDict([('item', 'truffle butter ramen'), ('category', 'entree'), ('description', 'rich, shoyu seasoned niman ranch prok bone stock; truffle compound butter, slow braised niman ranch pork belly, kikurage, sweet corn, nori, scallions'), ('price', '14'), ('cost', '7')])\n",
      "OrderedDict([('item', 'green tea'), ('category', 'drinks'), ('description', 'green tea'), ('price', '2.5'), ('cost', '1')])\n",
      "OrderedDict([('item', 'coke'), ('category', 'drinks'), ('description', 'Coca Cola soda'), ('price', '2'), ('cost', '1')])\n",
      "OrderedDict([('item', 'black sesame ice cream'), ('category', 'desserts'), ('description', 'house-made black sesame ice cream, valrhona chocolate threads, complimentary hojicha'), ('price', '5'), ('cost', '2')])\n",
      "OrderedDict([('item', 'matcha ice cream'), ('category', 'desserts'), ('description', 'house-made matcha ice cream, white chocolate pearls; complimentary hojicha'), ('price', '5'), ('cost', '2')])\n",
      "OrderedDict([('item', 'mango mochi ice cream'), ('category', 'desserts'), ('description', 'two rice-cake bonbons filled with strawberry ice cream; complimentary hojicha'), ('price', '5'), ('cost', '2')])\n",
      "OrderedDict([('item', 'strawberry mochi ice cream'), ('category', 'desserts'), ('description', 'two rice-cake bonbons filled with strawberry ice cream; complimentary hojicha'), ('price', '5'), ('cost', '2')])\n",
      "OrderedDict([('item', 'black sesame creme brulee'), ('category', 'desserts'), ('description', 'house made black sesame infused creme brulee; complimentary hojicha'), ('price', '6'), ('cost', '3')])\n"
     ]
    }
   ],
   "source": [
    "from pathlib import Path\n",
    "import csv\n",
    "\n",
    "menu_filepath = Path(r'C:\\Users\\yfkok\\OneDrive\\Desktop\\Monash Bootcamp\\python-homework\\PyRamen\\Resources\\menu_data.csv')\n",
    "\n",
    "mydict = {}\n",
    "\n",
    "with open(menu_filepath, 'r') as data:\n",
    "      \n",
    "    for line in csv.DictReader(data):\n",
    "        print(line)\n",
    "        \n"
   ]
  },
  {
   "cell_type": "code",
   "execution_count": 31,
   "id": "5da542fe-02ca-4495-9daa-ae1d7e25fb59",
   "metadata": {},
   "outputs": [
    {
     "name": "stdout",
     "output_type": "stream",
     "text": [
      "<class 'csv.DictReader'>\n"
     ]
    }
   ],
   "source": [
    "input_file = csv.DictReader(open(r'C:\\Users\\yfkok\\OneDrive\\Desktop\\Monash Bootcamp\\python-homework\\PyRamen\\Resources\\menu_data.csv'))\n",
    "\n",
    "print(type(input_file))"
   ]
  },
  {
   "cell_type": "code",
   "execution_count": null,
   "id": "7afa021a-e690-4609-8e80-5146bd495bb3",
   "metadata": {},
   "outputs": [],
   "source": []
  }
 ],
 "metadata": {
  "kernelspec": {
   "display_name": "Python 3 (ipykernel)",
   "language": "python",
   "name": "python3"
  },
  "language_info": {
   "codemirror_mode": {
    "name": "ipython",
    "version": 3
   },
   "file_extension": ".py",
   "mimetype": "text/x-python",
   "name": "python",
   "nbconvert_exporter": "python",
   "pygments_lexer": "ipython3",
   "version": "3.7.11"
  }
 },
 "nbformat": 4,
 "nbformat_minor": 5
}
