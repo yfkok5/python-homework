{
 "cells": [
  {
   "cell_type": "code",
   "execution_count": 3,
   "id": "12bd5c52-13d9-41dd-bbc1-febb0e739c7c",
   "metadata": {},
   "outputs": [],
   "source": [
    "import csv\n",
    "from pathlib import Path\n",
    "\n",
    "# @TODO: Set file paths for menu_data.csv and sales_data.csv\n",
    "menu_filepath = Path(r'C:\\Users\\yfkok\\OneDrive\\Desktop\\Monash Bootcamp\\python-homework\\PyRamen\\Resources\\menu_data.csv')\n",
    "sales_filepath = Path(r'C:\\Users\\yfkok\\OneDrive\\Desktop\\Monash Bootcamp\\python-homework\\PyRamen\\Resources\\sales_data.csv')\n",
    "\n",
    "filename = open(menu_filepath, 'r')\n",
    " \n",
    "# creating dictreader object\n",
    "menu = csv.DictReader(filename)\n",
    " \n",
    "# creating empty lists\n",
    "item = []\n",
    "category = []\n",
    "description = []\n",
    "price = []\n",
    "cost = []\n",
    "all_elements = ['item','category','description','price','cost']\n",
    "# iterating over each row and append\n",
    "# values to empty list\n",
    "for col in menu:\n",
    "    item.append(col['item'])\n",
    "    category.append(col['category'])\n",
    "    description.append(col['description'])\n",
    "    price.append(float(col['price']))\n",
    "    cost.append(int(col['cost']))\n",
    "\n",
    "    value = zip(category,description,price,cost)\n",
    "    \n",
    "    menu_dict = dict(zip(item, value))   \n"
   ]
  },
  {
   "cell_type": "code",
   "execution_count": 2,
   "id": "9fc1c153-c0d6-4b61-b296-2533cc3e1e0c",
   "metadata": {},
   "outputs": [
    {
     "name": "stdout",
     "output_type": "stream",
     "text": [
      "[('spicy miso ramen', 1), ('spicy miso ramen', 1), ('tori paitan ramen', 3), ('tori paitan ramen', 3), ('truffle butter ramen', 1), ('truffle butter ramen', 1)]\n",
      "6\n"
     ]
    }
   ],
   "source": [
    "a = [('spicy miso ramen', 1), ('spicy miso ramen', 1), ('tori paitan ramen', 3), ('tori paitan ramen', 3), ('truffle butter ramen', 1), ('truffle butter ramen', 1)]\n",
    "print(a)\n",
    "print(len(a))"
   ]
  },
  {
   "cell_type": "code",
   "execution_count": 6,
   "id": "9f0e0fbc-7891-446c-876a-350ca6a3fe3b",
   "metadata": {},
   "outputs": [
    {
     "ename": "IndexError",
     "evalue": "list index out of range",
     "output_type": "error",
     "traceback": [
      "\u001b[1;31m---------------------------------------------------------------------------\u001b[0m",
      "\u001b[1;31mIndexError\u001b[0m                                Traceback (most recent call last)",
      "\u001b[1;32m~\\AppData\\Local\\Temp/ipykernel_17752/4012226829.py\u001b[0m in \u001b[0;36m<module>\u001b[1;34m\u001b[0m\n\u001b[0;32m      3\u001b[0m \u001b[1;32mfor\u001b[0m \u001b[0mn\u001b[0m \u001b[1;32min\u001b[0m \u001b[0mrange\u001b[0m\u001b[1;33m(\u001b[0m\u001b[0mlen\u001b[0m\u001b[1;33m(\u001b[0m\u001b[0mitem\u001b[0m\u001b[1;33m)\u001b[0m\u001b[1;33m)\u001b[0m\u001b[1;33m:\u001b[0m\u001b[1;33m\u001b[0m\u001b[1;33m\u001b[0m\u001b[0m\n\u001b[0;32m      4\u001b[0m \u001b[1;33m\u001b[0m\u001b[0m\n\u001b[1;32m----> 5\u001b[1;33m     \u001b[1;32mif\u001b[0m \u001b[0ma\u001b[0m\u001b[1;33m[\u001b[0m\u001b[0mn\u001b[0m\u001b[1;33m]\u001b[0m\u001b[1;33m[\u001b[0m\u001b[1;36m0\u001b[0m\u001b[1;33m]\u001b[0m \u001b[1;33m==\u001b[0m \u001b[0mitem\u001b[0m\u001b[1;33m[\u001b[0m\u001b[0mn\u001b[0m\u001b[1;33m]\u001b[0m\u001b[1;33m:\u001b[0m\u001b[1;33m\u001b[0m\u001b[1;33m\u001b[0m\u001b[0m\n\u001b[0m\u001b[0;32m      6\u001b[0m         \u001b[0mquantity_spicymiso\u001b[0m\u001b[1;33m.\u001b[0m\u001b[0mappend\u001b[0m\u001b[1;33m(\u001b[0m\u001b[0ma\u001b[0m\u001b[1;33m[\u001b[0m\u001b[0mn\u001b[0m\u001b[1;33m]\u001b[0m\u001b[1;33m[\u001b[0m\u001b[1;36m1\u001b[0m\u001b[1;33m]\u001b[0m\u001b[1;33m)\u001b[0m\u001b[1;33m\u001b[0m\u001b[1;33m\u001b[0m\u001b[0m\n\u001b[0;32m      7\u001b[0m \u001b[1;33m\u001b[0m\u001b[0m\n",
      "\u001b[1;31mIndexError\u001b[0m: list index out of range"
     ]
    }
   ],
   "source": [
    "quantity_spicymiso = []\n",
    "\n",
    "for n in range(len(item)):\n",
    "    \n",
    "    if a[n][0] == item[n]:\n",
    "        quantity_spicymiso.append(a[n][1])\n",
    "\n",
    "        \n",
    "print(sum(quantity_spicymiso))"
   ]
  },
  {
   "cell_type": "code",
   "execution_count": null,
   "id": "3f4816da-29ac-4a7e-bbfe-9e159ced7dc2",
   "metadata": {},
   "outputs": [],
   "source": []
  }
 ],
 "metadata": {
  "kernelspec": {
   "display_name": "Python 3 (ipykernel)",
   "language": "python",
   "name": "python3"
  },
  "language_info": {
   "codemirror_mode": {
    "name": "ipython",
    "version": 3
   },
   "file_extension": ".py",
   "mimetype": "text/x-python",
   "name": "python",
   "nbconvert_exporter": "python",
   "pygments_lexer": "ipython3",
   "version": "3.7.11"
  }
 },
 "nbformat": 4,
 "nbformat_minor": 5
}
