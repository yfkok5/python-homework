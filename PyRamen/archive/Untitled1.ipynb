{
 "cells": [
  {
   "cell_type": "code",
   "execution_count": 26,
   "id": "0c0933ad-6127-4a90-b7c9-7fbbb03a3f2c",
   "metadata": {},
   "outputs": [
    {
     "name": "stdout",
     "output_type": "stream",
     "text": [
      "[('spicy miso ramen', 1), ('spicy miso ramen', 1), ('tori paitan ramen', 3), ('tori paitan ramen', 3), ('truffle butter ramen', 1), ('truffle butter ramen', 1)]\n",
      "6\n"
     ]
    }
   ],
   "source": [
    "a = [('spicy miso ramen', 1), ('spicy miso ramen', 1), ('tori paitan ramen', 3), ('tori paitan ramen', 3), ('truffle butter ramen', 1), ('truffle butter ramen', 1)]\n",
    "print(a)\n",
    "print(len(a))"
   ]
  },
  {
   "cell_type": "code",
   "execution_count": 28,
   "id": "96502084-3cde-4a0c-bf11-b46375b13ce0",
   "metadata": {},
   "outputs": [
    {
     "name": "stdout",
     "output_type": "stream",
     "text": [
      "2\n"
     ]
    }
   ],
   "source": [
    "quantity_spicymiso = []\n",
    "\n",
    "for n in range(len(a)):\n",
    "    \n",
    "    if a[n][0] == \"spicy miso ramen\":\n",
    "        quantity_spicymiso.append(a[n][1])\n",
    "\n",
    "print(sum(quantity_spicymiso))"
   ]
  },
  {
   "cell_type": "code",
   "execution_count": null,
   "id": "03aa4172-91f0-4f10-bc39-0fda421dbe42",
   "metadata": {},
   "outputs": [],
   "source": []
  }
 ],
 "metadata": {
  "kernelspec": {
   "display_name": "Python 3 (ipykernel)",
   "language": "python",
   "name": "python3"
  },
  "language_info": {
   "codemirror_mode": {
    "name": "ipython",
    "version": 3
   },
   "file_extension": ".py",
   "mimetype": "text/x-python",
   "name": "python",
   "nbconvert_exporter": "python",
   "pygments_lexer": "ipython3",
   "version": "3.7.11"
  }
 },
 "nbformat": 4,
 "nbformat_minor": 5
}
