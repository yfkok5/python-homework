{
 "cells": [
  {
   "cell_type": "code",
   "execution_count": 42,
   "id": "ac2c980d-7fc7-4c48-be3e-0f2f47321116",
   "metadata": {},
   "outputs": [
    {
     "name": "stdout",
     "output_type": "stream",
     "text": [
      "['blue', 'coffee']\n"
     ]
    }
   ],
   "source": [
    "entries = {'blue': ' the color of the sky', 'coffee': ' fuel for programmers'}\n",
    "keys    = list(entries.keys())\n",
    "print(keys)"
   ]
  },
  {
   "cell_type": "code",
   "execution_count": 43,
   "id": "a29022f2-679b-4706-9c73-a72bf109a0a4",
   "metadata": {},
   "outputs": [
    {
     "name": "stdout",
     "output_type": "stream",
     "text": [
      "[1, 2, 3, 'blue', 'coffee']\n"
     ]
    }
   ],
   "source": [
    "mylist = [1,2,3]\n",
    "mylist += entries\n",
    "print(mylist)"
   ]
  },
  {
   "cell_type": "code",
   "execution_count": null,
   "id": "0b01b72a-cdf3-4edd-bf23-ef39c5cc7d66",
   "metadata": {},
   "outputs": [],
   "source": []
  }
 ],
 "metadata": {
  "kernelspec": {
   "display_name": "Python 3 (ipykernel)",
   "language": "python",
   "name": "python3"
  },
  "language_info": {
   "codemirror_mode": {
    "name": "ipython",
    "version": 3
   },
   "file_extension": ".py",
   "mimetype": "text/x-python",
   "name": "python",
   "nbconvert_exporter": "python",
   "pygments_lexer": "ipython3",
   "version": "3.7.11"
  }
 },
 "nbformat": 4,
 "nbformat_minor": 5
}
